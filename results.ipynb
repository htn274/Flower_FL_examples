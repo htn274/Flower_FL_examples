{
 "cells": [
  {
   "cell_type": "code",
   "execution_count": 1,
   "metadata": {},
   "outputs": [],
   "source": [
    "%load_ext autoreload\n",
    "%autoreload 2"
   ]
  },
  {
   "cell_type": "code",
   "execution_count": 2,
   "metadata": {},
   "outputs": [],
   "source": [
    "import torch\n",
    "from torch.utils.data import DataLoader\n",
    "import numpy as np \n",
    "\n",
    "from models import MnistNet\n",
    "from utils import train, test\n",
    "from utils import load_partition, load_data\n",
    "from flwr.common.parameter import parameters_to_weights\n",
    "from collections import OrderedDict\n",
    "\n",
    "import pickle\n",
    "from matplotlib import pyplot as plt"
   ]
  },
  {
   "cell_type": "code",
   "execution_count": 3,
   "metadata": {},
   "outputs": [
    {
     "name": "stderr",
     "output_type": "stream",
     "text": [
      "/Users/htnu/Research/Flower_FL_examples/utils.py:41: UserWarning: To copy construct from a tensor, it is recommended to use sourceTensor.clone().detach() or sourceTensor.clone().detach().requires_grad_(True), rather than torch.tensor(sourceTensor).\n",
      "  X_train = torch.tensor(X_train).type(torch.FloatTensor)\n"
     ]
    }
   ],
   "source": [
    "DATA_DIR = './datasets/flmnist_iid_2clients'\n",
    "num_clients = 2\n",
    "B = 32\n",
    "# Train loaders for clients\n",
    "train_sets = [load_partition(cid=x + 1, data_dir=DATA_DIR) for x in range(num_clients)]\n",
    "_, test_loader = load_data()"
   ]
  },
  {
   "cell_type": "markdown",
   "metadata": {},
   "source": [
    "## Load saved global model"
   ]
  },
  {
   "cell_type": "code",
   "execution_count": 6,
   "metadata": {},
   "outputs": [],
   "source": [
    "tensors = np.load(\"./save_models/FedAvg_R50_C100_B10_E5_2022-07-20-15:15:23/last-weights.npz\", allow_pickle=True)[\"arr_0\"].tolist()\n",
    "model = MnistNet()\n",
    "weights = parameters_to_weights(tensors)\n",
    "params_dict = zip(model.state_dict().keys(), weights)\n",
    "state_dict = OrderedDict({k: torch.tensor(v) for k, v in params_dict})\n",
    "model.load_state_dict(state_dict, strict=True)\n",
    "loss, acc, total = test(model, test_loader, device=\"mps\")"
   ]
  },
  {
   "cell_type": "markdown",
   "metadata": {},
   "source": [
    "## Load the saved history for plotting"
   ]
  },
  {
   "cell_type": "code",
   "execution_count": 16,
   "metadata": {},
   "outputs": [],
   "source": [
    "file_name = \"save_models/FedAvg_R50_C2_B32_E3_2022-07-20-15:46:54_iid/hist.pkl\"\n",
    "f = open(file_name, 'rb')\n",
    "hist = pickle.load(f)\n",
    "f.close()"
   ]
  },
  {
   "cell_type": "code",
   "execution_count": 17,
   "metadata": {},
   "outputs": [
    {
     "name": "stdout",
     "output_type": "stream",
     "text": [
      "Accuracy at the last round:  0.9044\n",
      "Best Accuracy:  0.9702\n"
     ]
    }
   ],
   "source": [
    "hist_accs = hist.metrics_centralized['centralized_acc']\n",
    "accs = [x[1] for x in hist_accs]\n",
    "print('Accuracy at the last round: ', accs[-1])\n",
    "print('Best Accuracy: ', max(accs), ' at round ', np.argmax(accs) + 1)"
   ]
  },
  {
   "cell_type": "code",
   "execution_count": 18,
   "metadata": {},
   "outputs": [
    {
     "data": {
      "text/plain": [
       "Text(0, 0.5, 'Accuracy')"
      ]
     },
     "execution_count": 18,
     "metadata": {},
     "output_type": "execute_result"
    },
    {
     "data": {
      "image/png": "[encoded data removed]",
      "text/plain": [
       "<Figure size 720x360 with 1 Axes>"
      ]
     },
     "metadata": {
      "needs_background": "light"
     },
     "output_type": "display_data"
    }
   ],
   "source": [
    "plt.figure(figsize=(10, 5))\n",
    "plt.plot(range(len(accs)), accs)\n",
    "plt.xlabel('#Round')\n",
    "plt.ylabel('Accuracy')"
   ]
  },
  {
   "cell_type": "code",
   "execution_count": null,
   "metadata": {},
   "outputs": [],
   "source": []
  }
 ],
 "metadata": {
  "kernelspec": {
   "display_name": "Python 3.8.13 ('fl')",
   "language": "python",
   "name": "python3"
  },
  "language_info": {
   "codemirror_mode": {
    "name": "ipython",
    "version": 3
   },
   "file_extension": ".py",
   "mimetype": "text/x-python",
   "name": "python",
   "nbconvert_exporter": "python",
   "pygments_lexer": "ipython3",
   "version": "3.8.13"
  },
  "orig_nbformat": 4,
  "vscode": {
   "interpreter": {
    "hash": "58b2e53951f4f7d572ec1f716d73f96f668b339da2545dbd631599b05e0fd9aa"
   }
  }
 },
 "nbformat": 4,
 "nbformat_minor": 2
}
